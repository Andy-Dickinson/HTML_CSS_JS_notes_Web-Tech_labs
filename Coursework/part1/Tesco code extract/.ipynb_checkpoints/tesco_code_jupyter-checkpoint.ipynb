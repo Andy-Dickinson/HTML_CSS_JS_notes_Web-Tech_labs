{
 "cells": [
  {
   "cell_type": "markdown",
   "id": "9fcefd84-26c6-481c-a255-9b04056efda1",
   "metadata": {},
   "source": [
    "`<script>`<br>  \n",
    "&emsp;`var navigationData = {...,`  \n",
    "&emsp;&emsp;&emsp;`\"navigationItems\":[...,`<br>  \n",
    "&emsp;&emsp;&emsp;&emsp;&emsp;`{\"subItems\":[{\"url\":\"/recipes/special-diets/dairy-free-recipes.html\",\"label\":\"Dairy-free\",\"hideFromMobileMenu\":false},`  &emsp;&emsp;&emsp;&emsp;&emsp;&emsp;&emsp;`{\"url\":\"/recipes/special-diets/vegetarian-recipes.html\",\"label\":\"Vegetarian\",\"hideFromMobileMenu\":false},...],`  \n",
    "&emsp;&emsp;&emsp;&emsp;&emsp;&emsp;&emsp;`\"url\":null,\"label\":\"Special diets\",\"hideFromMobileMenu\":false,\"openInNewWindow\":false},`  \n",
    "\n",
    "&emsp;&emsp;&emsp;&emsp;&emsp;`{\"subItems\":[{\"url\":\"/recipes/courses/breakfast-recipes.html\",\"label\":\"Breakfast\",\"hideFromMobileMenu\":false},`  \n",
    "                    {\"url\":\"/recipes/courses/brunch-ideas.html\",\"label\":\"Brunch\",\"hideFromMobileMenu\":false},...],  \n",
    "                    \"url\":null,\"label\":\"Meals\",\"hideFromMobileMenu\":false,\"openInNewWindow\":false},  \n",
    "\n",
    "            {\"subItems\":[{\"url\":\"https://realfood.tesco.com/pancake-day.html\",\"label\":\"Pancake Day\",\"hideFromMobileMenu\":false,   \"addToMobileMenu\":true},  \n",
    "                    {\"url\":\"/budget-meals/healthy.html\",\"label\":\"Healthy on a budget\",\"hideFromMobileMenu\":false,   \"addToMobileMenu\":true},...],  \n",
    "                    \"url\":null,\"label\":\"Popular\",\"hideFromMobileMenu\":false,\"openInNewWindow\":false},  \n",
    "\n",
    "            {\"subItems\":[{\"url\":\"/chicken-recipes.html\",\"label\":\"Chicken recipes\",\"hideFromMobileMenu\":false},  \n",
    "                    {\"url\":\"/recipes/grains-pulses-and-pasta/pasta-recipes.html\",\"label\":\"Pasta recipes\",   \"hideFromMobileMenu\":false},...],  \n",
    "                    \"url\":null,\"label\":\"Ingredients\",\"hideFromMobileMenu\":false,\"openInNewWindow\":false},...]  \n",
    "    };  \n",
    "\n",
    "\\</script\\>`  "
   ]
  },
  {
   "cell_type": "code",
   "execution_count": null,
   "id": "9ee359e6-cc27-4d7f-a811-83e0da7b344c",
   "metadata": {},
   "outputs": [],
   "source": []
  }
 ],
 "metadata": {
  "kernelspec": {
   "display_name": "Python 3 (ipykernel)",
   "language": "python",
   "name": "python3"
  },
  "language_info": {
   "codemirror_mode": {
    "name": "ipython",
    "version": 3
   },
   "file_extension": ".py",
   "mimetype": "text/x-python",
   "name": "python",
   "nbconvert_exporter": "python",
   "pygments_lexer": "ipython3",
   "version": "3.9.7"
  }
 },
 "nbformat": 4,
 "nbformat_minor": 5
}
